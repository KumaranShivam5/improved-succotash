{
  "nbformat": 4,
  "nbformat_minor": 0,
  "metadata": {
    "colab": {
      "name": "Untitled3.ipynb",
      "provenance": [],
      "authorship_tag": "ABX9TyO5NjFvHPTeYXA6x8Imk8U9",
      "include_colab_link": true
    },
    "kernelspec": {
      "name": "python3",
      "display_name": "Python 3"
    }
  },
  "cells": [
    {
      "cell_type": "markdown",
      "metadata": {
        "id": "view-in-github",
        "colab_type": "text"
      },
      "source": [
        "<a href=\"https://colab.research.google.com/github/KumaranShivam5/improved-succotash/blob/master/lab_01_prob_01.ipynb\" target=\"_parent\"><img src=\"https://colab.research.google.com/assets/colab-badge.svg\" alt=\"Open In Colab\"/></a>"
      ]
    },
    {
      "cell_type": "code",
      "metadata": {
        "id": "0Svpf8Z7QXcx",
        "colab_type": "code",
        "colab": {}
      },
      "source": [
        "r=input(\"enter the number of rows\")\n",
        "c=input(\"enter the number of rows\")\n",
        "\n",
        "matrix=[]\n",
        "for i in range(r) :\n",
        "    for j in range (c):\n",
        "        a.append(input(\"enter data\"))\n",
        "    matrix.append(a)\n",
        "\n",
        "for i in range(r):\n",
        "    for j in range()"
      ],
      "execution_count": 0,
      "outputs": []
    }
  ]
}