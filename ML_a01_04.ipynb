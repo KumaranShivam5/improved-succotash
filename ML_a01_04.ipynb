{
  "nbformat": 4,
  "nbformat_minor": 0,
  "metadata": {
    "colab": {
      "name": "ML_a01_04.ipynb",
      "provenance": [],
      "authorship_tag": "ABX9TyMTZWIQHPmrQcy/QTi5//4J",
      "include_colab_link": true
    },
    "kernelspec": {
      "name": "python3",
      "display_name": "Python 3"
    }
  },
  "cells": [
    {
      "cell_type": "markdown",
      "metadata": {
        "id": "view-in-github",
        "colab_type": "text"
      },
      "source": [
        "<a href=\"https://colab.research.google.com/github/KumaranShivam5/improved-succotash/blob/master/ML_a01_04.ipynb\" target=\"_parent\"><img src=\"https://colab.research.google.com/assets/colab-badge.svg\" alt=\"Open In Colab\"/></a>"
      ]
    },
    {
      "cell_type": "code",
      "metadata": {
        "id": "huNAWg3E9c7w",
        "colab_type": "code",
        "colab": {}
      },
      "source": [
        "from scipy import stats as st\n",
        "import numpy as np\n",
        "from matplotlib import pyplot as plt"
      ],
      "execution_count": 0,
      "outputs": []
    },
    {
      "cell_type": "code",
      "metadata": {
        "id": "2MrPR6PL__zU",
        "colab_type": "code",
        "colab": {}
      },
      "source": [
        "x=np.linspace(-10,10,100)"
      ],
      "execution_count": 0,
      "outputs": []
    },
    {
      "cell_type": "markdown",
      "metadata": {
        "id": "fnMVJZiJIBsA",
        "colab_type": "text"
      },
      "source": [
        "UNIFORM DISTRIBUTION"
      ]
    },
    {
      "cell_type": "code",
      "metadata": {
        "id": "r02s3nPeAaw9",
        "colab_type": "code",
        "colab": {}
      },
      "source": [
        "n = 10000\n",
        "start = 10\n",
        "width = 20\n",
        "data_uniform = st.uniform.rvs(size=n, loc = start, scale=width)"
      ],
      "execution_count": 0,
      "outputs": []
    },
    {
      "cell_type": "code",
      "metadata": {
        "id": "MFx_GLa8Hpui",
        "colab_type": "code",
        "colab": {
          "base_uri": "https://localhost:8080/",
          "height": 369
        },
        "outputId": "d0d3449a-7009-4f17-ebcb-c6f2c0de3e0a"
      },
      "source": [
        "plt.hist(data_uniform,histtype='step', density=True)"
      ],
      "execution_count": 12,
      "outputs": [
        {
          "output_type": "execute_result",
          "data": {
            "text/plain": [
              "(array([0.05070386, 0.04915374, 0.05055385, 0.05170393, 0.0473536 ,\n",
              "        0.04875371, 0.05320405, 0.04910374, 0.04765363, 0.05185395]),\n",
              " array([10.00121645, 12.00106424, 14.00091204, 16.00075983, 18.00060763,\n",
              "        20.00045543, 22.00030322, 24.00015102, 25.99999881, 27.99984661,\n",
              "        29.99969441]),\n",
              " <a list of 1 Patch objects>)"
            ]
          },
          "metadata": {
            "tags": []
          },
          "execution_count": 12
        },
        {
          "output_type": "display_data",
          "data": {
            "image/png": "[encoded data removed]",
            "text/plain": [
              "<Figure size 432x288 with 1 Axes>"
            ]
          },
          "metadata": {
            "tags": []
          }
        }
      ]
    },
    {
      "cell_type": "markdown",
      "metadata": {
        "id": "ncEwfjKqIFku",
        "colab_type": "text"
      },
      "source": [
        "Gaussian Distribution"
      ]
    },
    {
      "cell_type": "code",
      "metadata": {
        "id": "-vd5e15zH6G6",
        "colab_type": "code",
        "colab": {
          "base_uri": "https://localhost:8080/",
          "height": 282
        },
        "outputId": "a0d79fd5-38d8-45f1-957a-fcee1c925e49"
      },
      "source": [
        "mean=0\n",
        "sd=4\n",
        "data_gaussian=st.norm(mean,1).pdf(x)\n",
        "plt.plot(data_gaussian)"
      ],
      "execution_count": 21,
      "outputs": [
        {
          "output_type": "execute_result",
          "data": {
            "text/plain": [
              "[<matplotlib.lines.Line2D at 0x7f32fd9016a0>]"
            ]
          },
          "metadata": {
            "tags": []
          },
          "execution_count": 21
        },
        {
          "output_type": "display_data",
          "data": {
            "image/png": "[encoded data removed]",
            "text/plain": [
              "<Figure size 432x288 with 1 Axes>"
            ]
          },
          "metadata": {
            "tags": []
          }
        }
      ]
    },
    {
      "cell_type": "markdown",
      "metadata": {
        "id": "8a-0Iqn1JXvK",
        "colab_type": "text"
      },
      "source": [
        "EXPONENTIAL Distribution"
      ]
    },
    {
      "cell_type": "code",
      "metadata": {
        "id": "1m5pGCbRImSd",
        "colab_type": "code",
        "colab": {
          "base_uri": "https://localhost:8080/",
          "height": 282
        },
        "outputId": "5da996c0-ff24-4016-b81b-652650d89208"
      },
      "source": [
        "data_exponential=st.expon.pdf(x[50:])\n",
        "plt.plot(x[50:],data_exponential)"
      ],
      "execution_count": 12,
      "outputs": [
        {
          "output_type": "execute_result",
          "data": {
            "text/plain": [
              "[<matplotlib.lines.Line2D at 0x7f9f8dddbcc0>]"
            ]
          },
          "metadata": {
            "tags": []
          },
          "execution_count": 12
        },
        {
          "output_type": "display_data",
          "data": {
            "image/png": "[encoded data removed]",
            "text/plain": [
              "<Figure size 432x288 with 1 Axes>"
            ]
          },
          "metadata": {
            "tags": []
          }
        }
      ]
    },
    {
      "cell_type": "markdown",
      "metadata": {
        "id": "Dl2YWbqILafi",
        "colab_type": "text"
      },
      "source": [
        "POISSON DISTRIBUTON"
      ]
    },
    {
      "cell_type": "code",
      "metadata": {
        "id": "7SdzPmN6Jj6Q",
        "colab_type": "code",
        "colab": {
          "base_uri": "https://localhost:8080/",
          "height": 612
        },
        "outputId": "d7fe618a-02ac-44c8-b424-defd645205ba"
      },
      "source": [
        "data_pos=np.random.poisson(5,1000)\n",
        "plt.hist(data_pos, 50, normed=True)"
      ],
      "execution_count": 13,
      "outputs": [
        {
          "output_type": "stream",
          "text": [
            "/usr/local/lib/python3.6/dist-packages/ipykernel_launcher.py:2: MatplotlibDeprecationWarning: \n",
            "The 'normed' kwarg was deprecated in Matplotlib 2.1 and will be removed in 3.1. Use 'density' instead.\n",
            "  \n"
          ],
          "name": "stderr"
        },
        {
          "output_type": "execute_result",
          "data": {
            "text/plain": [
              "(array([0.02857143, 0.        , 0.        , 0.09285714, 0.        ,\n",
              "        0.        , 0.        , 0.31071429, 0.        , 0.        ,\n",
              "        0.44285714, 0.        , 0.        , 0.        , 0.625     ,\n",
              "        0.        , 0.        , 0.7       , 0.        , 0.        ,\n",
              "        0.        , 0.56071429, 0.        , 0.        , 0.35714286,\n",
              "        0.        , 0.        , 0.        , 0.22857143, 0.        ,\n",
              "        0.        , 0.        , 0.11428571, 0.        , 0.        ,\n",
              "        0.06071429, 0.        , 0.        , 0.        , 0.025     ,\n",
              "        0.        , 0.        , 0.01071429, 0.        , 0.        ,\n",
              "        0.        , 0.01071429, 0.        , 0.        , 0.00357143]),\n",
              " array([ 0.  ,  0.28,  0.56,  0.84,  1.12,  1.4 ,  1.68,  1.96,  2.24,\n",
              "         2.52,  2.8 ,  3.08,  3.36,  3.64,  3.92,  4.2 ,  4.48,  4.76,\n",
              "         5.04,  5.32,  5.6 ,  5.88,  6.16,  6.44,  6.72,  7.  ,  7.28,\n",
              "         7.56,  7.84,  8.12,  8.4 ,  8.68,  8.96,  9.24,  9.52,  9.8 ,\n",
              "        10.08, 10.36, 10.64, 10.92, 11.2 , 11.48, 11.76, 12.04, 12.32,\n",
              "        12.6 , 12.88, 13.16, 13.44, 13.72, 14.  ]),\n",
              " <a list of 50 Patch objects>)"
            ]
          },
          "metadata": {
            "tags": []
          },
          "execution_count": 13
        },
        {
          "output_type": "display_data",
          "data": {
            "image/png": "[encoded data removed]",
            "text/plain": [
              "<Figure size 432x288 with 1 Axes>"
            ]
          },
          "metadata": {
            "tags": []
          }
        }
      ]
    },
    {
      "cell_type": "code",
      "metadata": {
        "id": "zCEydgQeLxqg",
        "colab_type": "code",
        "colab": {}
      },
      "source": [
        ""
      ],
      "execution_count": 0,
      "outputs": []
    }
  ]
}