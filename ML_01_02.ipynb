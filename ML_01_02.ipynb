{
  "nbformat": 4,
  "nbformat_minor": 0,
  "metadata": {
    "colab": {
      "name": "ML_01_02.ipynb",
      "provenance": [],
      "authorship_tag": "ABX9TyOuGzS6Pocsoop/Y/n7Zr2c",
      "include_colab_link": true
    },
    "kernelspec": {
      "name": "python3",
      "display_name": "Python 3"
    }
  },
  "cells": [
    {
      "cell_type": "markdown",
      "metadata": {
        "id": "view-in-github",
        "colab_type": "text"
      },
      "source": [
        "<a href=\"https://colab.research.google.com/github/KumaranShivam5/improved-succotash/blob/master/ML_01_02.ipynb\" target=\"_parent\"><img src=\"https://colab.research.google.com/assets/colab-badge.svg\" alt=\"Open In Colab\"/></a>"
      ]
    },
    {
      "cell_type": "code",
      "metadata": {
        "id": "DJ0IzV2wVm0S",
        "colab_type": "code",
        "colab": {
          "base_uri": "https://localhost:8080/",
          "height": 173
        },
        "outputId": "9a4f9fdf-cc22-4429-e8b8-3953f129add5"
      },
      "source": [
        "a_size=int(input(\"enter size of array :\"))\n",
        "a1=[]\n",
        "a2=[]\n",
        "common=[]\n",
        "print(\"enter array 1 elements : \")\n",
        "for i in range(a_size):\n",
        "    a1.append(int(input()))\n",
        "print(\"enter array 2 elements : \")\n",
        "for i in range(a_size):\n",
        "    a2.append(int(input()))\n"
      ],
      "execution_count": 1,
      "outputs": [
        {
          "output_type": "stream",
          "text": [
            "enter size of array :3\n",
            "enter array 1 elements : \n",
            "1\n",
            "2\n",
            "3\n",
            "enter array 2 elements : \n",
            "3\n",
            "2\n",
            "4\n"
          ],
          "name": "stdout"
        }
      ]
    },
    {
      "cell_type": "code",
      "metadata": {
        "id": "A9zOXacoWR_q",
        "colab_type": "code",
        "outputId": "437c0220-1343-4835-ffb8-8867554d4c05",
        "colab": {
          "base_uri": "https://localhost:8080/",
          "height": 34
        }
      },
      "source": [
        "common=[]\n",
        "for i in range(a_size):\n",
        "    for j in range(a_size):\n",
        "        if(a1[i]==a2[j]):\n",
        "            common.append(a1[i])\n",
        "\n",
        "print(common)"
      ],
      "execution_count": 2,
      "outputs": [
        {
          "output_type": "stream",
          "text": [
            "[2, 3]\n"
          ],
          "name": "stdout"
        }
      ]
    },
    {
      "cell_type": "code",
      "metadata": {
        "id": "wpfxjtFyXtfG",
        "colab_type": "code",
        "colab": {}
      },
      "source": [
        ""
      ],
      "execution_count": 0,
      "outputs": []
    }
  ]
}