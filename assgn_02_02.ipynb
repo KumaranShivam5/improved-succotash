{
  "nbformat": 4,
  "nbformat_minor": 0,
  "metadata": {
    "colab": {
      "name": "assgn_02_02.ipynb",
      "provenance": [],
      "authorship_tag": "ABX9TyOuGzS6Pocsoop/Y/n7Zr2c",
      "include_colab_link": true
    },
    "kernelspec": {
      "name": "python3",
      "display_name": "Python 3"
    }
  },
  "cells": [
    {
      "cell_type": "markdown",
      "metadata": {
        "id": "view-in-github",
        "colab_type": "text"
      },
      "source": [
        "<a href=\"https://colab.research.google.com/github/KumaranShivam5/improved-succotash/blob/master/assgn_02_02.ipynb\" target=\"_parent\"><img src=\"https://colab.research.google.com/assets/colab-badge.svg\" alt=\"Open In Colab\"/></a>"
      ]
    },
    {
      "cell_type": "code",
      "metadata": {
        "id": "DJ0IzV2wVm0S",
        "colab_type": "code",
        "colab": {
          "base_uri": "https://localhost:8080/",
          "height": 170
        },
        "outputId": "1ad746d8-1a10-43bc-a04b-f16c182879b9"
      },
      "source": [
        "a_size=int(input(\"enter size of array :\"))\n",
        "a1=[]\n",
        "a2=[]\n",
        "common=[]\n",
        "print(\"enter array 1 elements : \")\n",
        "for i in range(a_size):\n",
        "    a1.append(int(input()))\n",
        "print(\"enter array 2 elements : \")\n",
        "for i in range(a_size):\n",
        "    a2.append(int(input()))\n"
      ],
      "execution_count": 10,
      "outputs": [
        {
          "output_type": "stream",
          "text": [
            "enter size of array :3\n",
            "enter array 1 elements : \n",
            "1\n",
            "2\n",
            "3\n",
            "enter array 2 elements : \n",
            "4\n",
            "2\n",
            "1\n"
          ],
          "name": "stdout"
        }
      ]
    },
    {
      "cell_type": "code",
      "metadata": {
        "id": "A9zOXacoWR_q",
        "colab_type": "code",
        "colab": {
          "base_uri": "https://localhost:8080/",
          "height": 34
        },
        "outputId": "86aab674-d1c6-4247-b72b-c9277aa04e08"
      },
      "source": [
        "common=[]\n",
        "for i in range(a_size):\n",
        "    for j in range(a_size):\n",
        "        if(a1[i]==a2[j]):\n",
        "            common.append(a1[i])\n",
        "\n",
        "print(common)"
      ],
      "execution_count": 13,
      "outputs": [
        {
          "output_type": "stream",
          "text": [
            "[1, 2]\n"
          ],
          "name": "stdout"
        }
      ]
    },
    {
      "cell_type": "code",
      "metadata": {
        "id": "wpfxjtFyXtfG",
        "colab_type": "code",
        "colab": {}
      },
      "source": [
        ""
      ],
      "execution_count": 0,
      "outputs": []
    }
  ]
}