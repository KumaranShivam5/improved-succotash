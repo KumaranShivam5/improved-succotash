{
  "nbformat": 4,
  "nbformat_minor": 0,
  "metadata": {
    "colab": {
      "name": "ML_assign2_q4_v2.ipynb",
      "provenance": [],
      "toc_visible": true,
      "authorship_tag": "ABX9TyMk61415tV0TNGr840W+4D0",
      "include_colab_link": true
    },
    "kernelspec": {
      "name": "python3",
      "display_name": "Python 3"
    }
  },
  "cells": [
    {
      "cell_type": "markdown",
      "metadata": {
        "id": "view-in-github",
        "colab_type": "text"
      },
      "source": [
        "<a href=\"https://colab.research.google.com/github/KumaranShivam5/improved-succotash/blob/master/assignment2/ML_assign2_q4_v2.ipynb\" target=\"_parent\"><img src=\"https://colab.research.google.com/assets/colab-badge.svg\" alt=\"Open In Colab\"/></a>"
      ]
    },
    {
      "cell_type": "markdown",
      "metadata": {
        "id": "59d6d9vKNWmu",
        "colab_type": "text"
      },
      "source": [
        "<h1 style=\"color:red;font-family:monospace;\">Parzen window for IRIS data<h1> "
      ]
    },
    {
      "cell_type": "markdown",
      "metadata": {
        "id": "qbG3JbU00AUb",
        "colab_type": "text"
      },
      "source": [
        "# importig dependencies"
      ]
    },
    {
      "cell_type": "code",
      "metadata": {
        "id": "AD8LlttNNPL2",
        "colab_type": "code",
        "colab": {}
      },
      "source": [
        "import numpy as np\n",
        "import pandas as pd\n",
        "from matplotlib import pyplot as plt\n",
        "raw_data=pd.read_csv('iris.txt',sep=',')"
      ],
      "execution_count": 0,
      "outputs": []
    },
    {
      "cell_type": "markdown",
      "metadata": {
        "id": "SdNxZEI90Ofa",
        "colab_type": "text"
      },
      "source": [
        "Reading data"
      ]
    },
    {
      "cell_type": "code",
      "metadata": {
        "id": "KFLsBmMeODkL",
        "colab_type": "code",
        "outputId": "7b59eda7-0077-46e0-87c5-d840722928cd",
        "colab": {
          "base_uri": "https://localhost:8080/",
          "height": 265
        }
      },
      "source": [
        "no_of_ctg=3\n",
        "raw_data.describe().loc[:,:].pw\n",
        "plt.hist2d(raw_data.loc[:,'pl'],raw_data.loc[:,'sl'], bins=30)\n",
        "plt.show()"
      ],
      "execution_count": 0,
      "outputs": [
        {
          "output_type": "display_data",
          "data": {
            "image/png": "[encoded data removed]",
            "text/plain": [
              "<Figure size 432x288 with 1 Axes>"
            ]
          },
          "metadata": {
            "tags": [],
            "needs_background": "light"
          }
        }
      ]
    },
    {
      "cell_type": "code",
      "metadata": {
        "id": "b-pJ6cR0XRPS",
        "colab_type": "code",
        "outputId": "c3697861-66d8-4506-cbc4-daa55f6f0d7a",
        "colab": {
          "base_uri": "https://localhost:8080/",
          "height": 139
        }
      },
      "source": [
        "#defining covarience matrix for gaussian window for each class \n",
        "#the covarience matrix is assumed to be diagonal\n",
        "#with the variences as the diagonal entries\n",
        "cov=[]\n",
        "\n",
        "for i in range(1,4):\n",
        "    cov_temp=[]\n",
        "    for j in range(4):\n",
        "        cov_temp.append(np.square(raw_data[raw_data['ctg']==i].describe().loc['std'].iloc[j]))\n",
        "    cov.append(cov_temp)\n",
        "print(cov)\n",
        "cov_matrix=[]\n",
        "det=[]\n",
        "for i in range(3):\n",
        "    cov_matrix.append(np.diag(cov[i]))\n",
        "    det.append(np.linalg.det(cov_matrix[i]))\n",
        "print(cov_matrix[0])\n",
        "print(det)\n",
        "\n",
        "# Result\n",
        "# this cov_matrix in a list containing three 4x4 matrices\n",
        "# the matrices are covarience matrieces corresponding to\n",
        "# different classes"
      ],
      "execution_count": 0,
      "outputs": [
        {
          "output_type": "stream",
          "text": [
            "[[0.12424897959183666, 0.1451795918367347, 0.030106122448979606, 0.011493877551020404], [0.26643265306122454, 0.09846938775510206, 0.2208163265306124, 0.039106122448979576], [0.40434285714285706, 0.10400408163265312, 0.304587755102041, 0.07543265306122446]]\n",
            "[[0.12424898 0.         0.         0.        ]\n",
            " [0.         0.14517959 0.         0.        ]\n",
            " [0.         0.         0.03010612 0.        ]\n",
            " [0.         0.         0.         0.01149388]]\n",
            "[6.241942901180606e-06, 0.00022655029059295565, 0.0009662110094973292]\n"
          ],
          "name": "stdout"
        }
      ]
    },
    {
      "cell_type": "markdown",
      "metadata": {
        "id": "GEgb89MUzzbc",
        "colab_type": "text"
      },
      "source": [
        "# Window Function\n"
      ]
    },
    {
      "cell_type": "markdown",
      "metadata": {
        "id": "l66ZNQCABw6v",
        "colab_type": "text"
      },
      "source": [
        "Function \n",
        "\n",
        "\n",
        "```\n",
        "# estimate_pdf(x,data,N,h)\n",
        "```\n",
        "will be used to estimate the likelihood \n",
        "-- p(x|category) (the pdf),\n",
        " where \n",
        "x is the point in D dim space , \n",
        "data is the training data belonging to this category , N is the number of training data samples belonging to this category and\n",
        "h is bandwidth' or window width.\n",
        "\n"
      ]
    },
    {
      "cell_type": "code",
      "metadata": {
        "id": "8RlbnWsbzjx9",
        "colab_type": "code",
        "colab": {}
      },
      "source": [
        "\n",
        "def estimate_pdf(x,data,h=1):\n",
        "    N=len(data_ctg1)\n",
        "    x=np.asarray(x)\n",
        "    sum_arr=0\n",
        "    for xn in data:\n",
        "        sum_arr+=(gauss_window((x-xn)/h))\n",
        "    res=sum_arr/(N*(h**len(x)))\n",
        "    return(sum_arr)\n",
        "\n",
        "def gauss_window(x):\n",
        "    x=np.asarray(x)\n",
        "    D=len(x)\n",
        "    p1=np.power(2*np.pi, -(D/2))\n",
        "    p2= (-1/2)*(np.dot(x,x))\n",
        "    res=p1*np.exp(p2)\n",
        "    return(res)"
      ],
      "execution_count": 0,
      "outputs": []
    },
    {
      "cell_type": "code",
      "metadata": {
        "id": "DCDGVMXh_fZQ",
        "colab_type": "code",
        "colab": {}
      },
      "source": [
        "raw_data_to_split=raw_data.sample(frac=1)\n",
        "split=0.8\n",
        "split_no=int(split*len(raw_data_to_split))\n",
        "train_data=raw_data_to_split.iloc[:split_no]\n",
        "test_data=raw_data_to_split.iloc[split_no:]\n",
        "data_ctg=[]\n",
        "for i in range(no_of_ctg):\n",
        "    data_ctg.append(train_data[train_data['ctg']==i+1].iloc[:,:4].to_numpy())"
      ],
      "execution_count": 0,
      "outputs": []
    },
    {
      "cell_type": "markdown",
      "metadata": {
        "id": "SUiWFYlEHJyD",
        "colab_type": "text"
      },
      "source": [
        "Running accuracy test"
      ]
    },
    {
      "cell_type": "code",
      "metadata": {
        "id": "Da5ZV0dXHM1w",
        "colab_type": "code",
        "outputId": "b3adbaae-3195-4254-cd80-a0dc1c179605",
        "colab": {
          "base_uri": "https://localhost:8080/",
          "height": 34
        }
      },
      "source": [
        "h=10\n",
        "test_data_arr=test_data.to_numpy()[:,:4]\n",
        "test_label_arr=test_data.to_numpy()[:,4:]\n",
        "ctr=0\n",
        "for i in range(len(test_data_arr)):\n",
        "    p=[]\n",
        "    for j in range(no_of_ctg):\n",
        "        p.append(estimate_pdf(test_data_arr[i],data_ctg[j],h))\n",
        "        #print(p)\n",
        "    if(np.argmax(p)+1==int(test_label_arr[i])):\n",
        "        ctr+=1\n",
        "print(ctr/len(test_data_arr))\n",
        "    "
      ],
      "execution_count": 0,
      "outputs": [
        {
          "output_type": "stream",
          "text": [
            "0.5\n"
          ],
          "name": "stdout"
        }
      ]
    }
  ]
}