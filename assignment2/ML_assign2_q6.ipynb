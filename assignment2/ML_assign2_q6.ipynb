{
  "nbformat": 4,
  "nbformat_minor": 0,
  "metadata": {
    "colab": {
      "name": "ML_assign2_q6.ipynb",
      "provenance": [],
      "authorship_tag": "ABX9TyPuQiXP7OWI4rxtICHPGav+",
      "include_colab_link": true
    },
    "kernelspec": {
      "name": "python3",
      "display_name": "Python 3"
    }
  },
  "cells": [
    {
      "cell_type": "markdown",
      "metadata": {
        "id": "view-in-github",
        "colab_type": "text"
      },
      "source": [
        "<a href=\"https://colab.research.google.com/github/KumaranShivam5/improved-succotash/blob/master/assignment2/ML_assign2_q6.ipynb\" target=\"_parent\"><img src=\"https://colab.research.google.com/assets/colab-badge.svg\" alt=\"Open In Colab\"/></a>"
      ]
    },
    {
      "cell_type": "code",
      "metadata": {
        "id": "mQwdynKFt-i3",
        "colab_type": "code",
        "colab": {}
      },
      "source": [
        "import numpy as np\n",
        "import matplotlib.pyplot as plt\n",
        "import pandas as pd\n",
        "from sklearn.model_selection import train_test_split"
      ],
      "execution_count": 0,
      "outputs": []
    },
    {
      "cell_type": "code",
      "metadata": {
        "id": "mUnfuFVhh0CG",
        "colab_type": "code",
        "colab": {}
      },
      "source": [
        "raw_data=pd.read_csv('iris.txt', header=0,sep=',')\n",
        "raw_data.describe()\n",
        "\n",
        "#train test split________\n",
        "split=0.8\n",
        "##___________________________\n",
        "raw_data=raw_data.sample(frac=1,).reset_index(drop=True)\n",
        "split_no=int(len(raw_data)*split)\n",
        "train=raw_data.iloc[:split_no]\n",
        "test=raw_data.iloc[split_no:]\n",
        "test_data=test.iloc[:,0:4].to_numpy()\n",
        "test_label=test['ctg'].to_numpy()\n",
        "#train.describe()\n",
        "#test.describe()"
      ],
      "execution_count": 0,
      "outputs": []
    },
    {
      "cell_type": "code",
      "metadata": {
        "id": "EqincqLdmgNF",
        "colab_type": "code",
        "colab": {}
      },
      "source": [
        "means=[]\n",
        "covariences=[]\n",
        "for i in range(train['ctg'].nunique()):\n",
        "    #for calculating mean and covarience we are using \n",
        "    #only train data here\n",
        "    # calculating sample mean vector\n",
        "    mean= train[train['ctg']==i+1].iloc[:,0:4].describe().loc['mean']\n",
        "    mean_vec=mean.to_numpy()\n",
        "    #print('mean vector learned is : ',mean_vec)\n",
        "    means.append(mean_vec)\n",
        "    #calculating sample covrience matrix\n",
        "    x_train=train[train['ctg']==i+1].iloc[:,0:4].to_numpy()\n",
        "    #print('Training data as an array of shape :', x_train.shape)\n",
        "    matrix_array=np.asarray([np.outer((x-mean_vec),(x-mean_vec)) for x in x_train])\n",
        "    m_times_cov=np.sum(matrix_array, axis=0)\n",
        "    cov_mat=np.divide(m_times_cov, len(x_train))\n",
        "    #print('Covarience matrix learned is : \\n', cov_mat)\n",
        "    covariences.append(cov_mat)\n"
      ],
      "execution_count": 0,
      "outputs": []
    },
    {
      "cell_type": "code",
      "metadata": {
        "id": "FH0oWf2TuCNq",
        "colab_type": "code",
        "colab": {}
      },
      "source": [
        "def mv_pdf(x,mu,sigma):\n",
        "    det=np.linalg.det(sigma)\n",
        "    dim=len(x)\n",
        "    part1=1/((np.power((2*np.pi),(dim/2)))*(np.power(det,0.5)))\n",
        "    part2=np.exp((-0.5)*(np.dot(np.dot(x,np.linalg.inv(sigma)),x)))\n",
        "    res=part1*part2\n",
        "    return(res)"
      ],
      "execution_count": 0,
      "outputs": []
    },
    {
      "cell_type": "code",
      "metadata": {
        "id": "ER5mUsU4Boje",
        "colab_type": "code",
        "colab": {}
      },
      "source": [
        "#priors\n",
        "prior=[1,1,1]"
      ],
      "execution_count": 0,
      "outputs": []
    },
    {
      "cell_type": "code",
      "metadata": {
        "id": "9rZsgdfUB2Ha",
        "colab_type": "code",
        "colab": {}
      },
      "source": [
        "#calculating posterior\n",
        "#and returning category\n",
        "def calc_ctg(x):\n",
        "    post=[mv_pdf(x, means[i], covariences[i])*prior[i] for i in range(train['ctg'].nunique())]\n",
        "    return(np.argmax(post)+1)"
      ],
      "execution_count": 0,
      "outputs": []
    },
    {
      "cell_type": "code",
      "metadata": {
        "id": "JzKGaW6-C1vz",
        "colab_type": "code",
        "colab": {
          "base_uri": "https://localhost:8080/",
          "height": 51
        },
        "outputId": "4361a3f2-985c-4ef7-c6a0-109769d46355"
      },
      "source": [
        "predictions=np.asarray([calc_ctg(x) for x in test_data])\n",
        "print(predictions)\n",
        "acc_matrix=np.asarray( predictions==test_label)\n",
        "ctr=0\n",
        "for t in acc_matrix:\n",
        "    if t:\n",
        "        ctr+=1\n",
        "acc=(ctr/len(acc_matrix))\n",
        "print(acc)"
      ],
      "execution_count": 282,
      "outputs": [
        {
          "output_type": "stream",
          "text": [
            "[1 3 3 3 3 3 3 3 3 3 1 3 3 3 3 1 3 3 3 3 3 1 3 3 1 3 3 3 1 3]\n",
            "0.5\n"
          ],
          "name": "stdout"
        }
      ]
    },
    {
      "cell_type": "code",
      "metadata": {
        "id": "slgqKMBcHUal",
        "colab_type": "code",
        "colab": {}
      },
      "source": [
        ""
      ],
      "execution_count": 0,
      "outputs": []
    }
  ]
}