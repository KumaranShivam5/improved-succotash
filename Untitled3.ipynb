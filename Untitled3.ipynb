{
  "nbformat": 4,
  "nbformat_minor": 0,
  "metadata": {
    "colab": {
      "name": "Untitled3.ipynb",
      "provenance": [],
      "authorship_tag": "ABX9TyNzY2gmxOcF6s3P5zLDlaLK",
      "include_colab_link": true
    },
    "kernelspec": {
      "name": "python3",
      "display_name": "Python 3"
    }
  },
  "cells": [
    {
      "cell_type": "markdown",
      "metadata": {
        "id": "view-in-github",
        "colab_type": "text"
      },
      "source": [
        "<a href=\"https://colab.research.google.com/github/KumaranShivam5/improved-succotash/blob/master/Untitled3.ipynb\" target=\"_parent\"><img src=\"https://colab.research.google.com/assets/colab-badge.svg\" alt=\"Open In Colab\"/></a>"
      ]
    },
    {
      "cell_type": "markdown",
      "metadata": {
        "id": "9yoqpZh1VG4M",
        "colab_type": "text"
      },
      "source": [
        ""
      ]
    },
    {
      "cell_type": "code",
      "metadata": {
        "id": "0Svpf8Z7QXcx",
        "colab_type": "code",
        "colab": {
          "base_uri": "https://localhost:8080/",
          "height": 51
        },
        "outputId": "ab347468-71e6-4c06-9aa0-979fb629c6ed"
      },
      "source": [
        "r=int(input(\"enter the number of rows\"))\n",
        "c=int(input(\"enter the number of columns\"))"
      ],
      "execution_count": 16,
      "outputs": [
        {
          "output_type": "stream",
          "text": [
            "enter the number of rows3\n",
            "enter the number of columns3\n"
          ],
          "name": "stdout"
        }
      ]
    },
    {
      "cell_type": "code",
      "metadata": {
        "id": "35QdGNwBTCLu",
        "colab_type": "code",
        "colab": {
          "base_uri": "https://localhost:8080/",
          "height": 170
        },
        "outputId": "5b3ace8b-6582-4c0a-eb33-0e3a7207f87f"
      },
      "source": [
        "matrix=[]\n",
        "for i in range(r) :\n",
        "    a=[]\n",
        "    for j in range (c):\n",
        "        a.append(int(input(\"enter data\")))\n",
        "    matrix.append(a)\n",
        "\n"
      ],
      "execution_count": 18,
      "outputs": [
        {
          "output_type": "stream",
          "text": [
            "enter data1\n",
            "enter data6\n",
            "enter data4\n",
            "enter data7\n",
            "enter data5\n",
            "enter data3\n",
            "enter data90\n",
            "enter data43\n",
            "enter data2\n"
          ],
          "name": "stdout"
        }
      ]
    },
    {
      "cell_type": "code",
      "metadata": {
        "id": "dLXbaJBIS9X8",
        "colab_type": "code",
        "colab": {
          "base_uri": "https://localhost:8080/",
          "height": 68
        },
        "outputId": "4445b0de-297f-4cb2-d398-014927c50459"
      },
      "source": [
        "for i in range(r):\n",
        "    for j in range(c):\n",
        "        print(matrix[i][j], end=\" \")\n",
        "    print()"
      ],
      "execution_count": 19,
      "outputs": [
        {
          "output_type": "stream",
          "text": [
            "1 6 4 \n",
            "7 5 3 \n",
            "90 43 2 \n"
          ],
          "name": "stdout"
        }
      ]
    },
    {
      "cell_type": "code",
      "metadata": {
        "id": "hk-noiJlS_CE",
        "colab_type": "code",
        "colab": {
          "base_uri": "https://localhost:8080/",
          "height": 34
        },
        "outputId": "630e219c-010e-4e3e-e3ca-104b5ff464af"
      },
      "source": [
        "r_max=0\n",
        "c_max=0\n",
        "arg_max=0\n",
        "\n",
        "for i in range(r):\n",
        "    for j in range(c):\n",
        "        if (matrix[i][j]>=arg_max):\n",
        "            arg_max=matrix[i][j]\n",
        "            r_max=i+1\n",
        "            c_max=j+1\n",
        "print(\"max value is :\", arg_max, \"at (\",r_max ,\",\",c_max,\")\" )"
      ],
      "execution_count": 20,
      "outputs": [
        {
          "output_type": "stream",
          "text": [
            "max value is : 90 at ( 3 , 1 )\n"
          ],
          "name": "stdout"
        }
      ]
    }
  ]
}