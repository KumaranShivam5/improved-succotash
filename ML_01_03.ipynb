{
  "nbformat": 4,
  "nbformat_minor": 0,
  "metadata": {
    "colab": {
      "name": "ML_01_03.ipynb",
      "provenance": [],
      "authorship_tag": "ABX9TyOb0rSvyzaKsjxywvSFoi3/",
      "include_colab_link": true
    },
    "kernelspec": {
      "name": "python3",
      "display_name": "Python 3"
    }
  },
  "cells": [
    {
      "cell_type": "markdown",
      "metadata": {
        "id": "view-in-github",
        "colab_type": "text"
      },
      "source": [
        "<a href=\"https://colab.research.google.com/github/KumaranShivam5/improved-succotash/blob/master/ML_01_03.ipynb\" target=\"_parent\"><img src=\"https://colab.research.google.com/assets/colab-badge.svg\" alt=\"Open In Colab\"/></a>"
      ]
    },
    {
      "cell_type": "code",
      "metadata": {
        "id": "DJ0IzV2wVm0S",
        "colab_type": "code",
        "outputId": "a23f80e0-c9d3-4aa8-c26b-4d2ee11243cc",
        "colab": {
          "base_uri": "https://localhost:8080/",
          "height": 173
        }
      },
      "source": [
        "a_size=int(input(\"enter size of array :\"))\n",
        "a1=[]\n",
        "a2=[]\n",
        "common=[]\n",
        "print(\"enter array 1 elements : \")\n",
        "for i in range(a_size):\n",
        "    a1.append(int(input()))\n",
        "print(\"enter array 2 elements : \")\n",
        "for i in range(a_size):\n",
        "    a2.append(int(input()))\n"
      ],
      "execution_count": 10,
      "outputs": [
        {
          "output_type": "stream",
          "text": [
            "enter size of array :3\n",
            "enter array 1 elements : \n",
            "1\n",
            "2\n",
            "3\n",
            "enter array 2 elements : \n",
            "4\n",
            "5\n",
            "6\n"
          ],
          "name": "stdout"
        }
      ]
    },
    {
      "cell_type": "code",
      "metadata": {
        "id": "xJBzFCMhx4Tz",
        "colab_type": "code",
        "colab": {}
      },
      "source": [
        "def multiply(a1,a2):\n",
        "    result=[]\n",
        "    for i in range(len(a1)):\n",
        "        result.append(a1[i]*a2[i])\n",
        "    return(result)\n",
        "def divide(a1,a2):\n",
        "    result=[]\n",
        "    for i in range(len(a1)):\n",
        "        result.append(a1[i]/a2[i])\n",
        "    return(result)\n"
      ],
      "execution_count": 0,
      "outputs": []
    },
    {
      "cell_type": "code",
      "metadata": {
        "id": "A9zOXacoWR_q",
        "colab_type": "code",
        "outputId": "1d1441f4-db59-4e76-e53e-a4c9526f623b",
        "colab": {
          "base_uri": "https://localhost:8080/",
          "height": 69
        }
      },
      "source": [
        "print(\"Enter which operation would you like to perform?\")\n",
        "ch = input(\"Enter any of these char for specific operation +,-,*,/: \")\n",
        "\n",
        "result = 0\n",
        "if ch == '+':\n",
        "    result = a1 + a2\n",
        "elif ch == '-':\n",
        "    result = a1 - a2\n",
        "elif ch == '*':\n",
        "    result = multiply(a1,a2)\n",
        "elif ch == '/':\n",
        "    result = divide(a1,a2)\n",
        "else:\n",
        "    print(\"Input character is not recognized!\")\n",
        "\n",
        "print(a1, ch , a2, \":\", result)"
      ],
      "execution_count": 20,
      "outputs": [
        {
          "output_type": "stream",
          "text": [
            "Enter which operation would you like to perform?\n",
            "Enter any of these char for specific operation +,-,*,/: /\n",
            "[1, 2, 3] / [4, 5, 6] : [0.25, 0.4, 0.5]\n"
          ],
          "name": "stdout"
        }
      ]
    },
    {
      "cell_type": "code",
      "metadata": {
        "id": "wpfxjtFyXtfG",
        "colab_type": "code",
        "colab": {}
      },
      "source": [
        "*\n"
      ],
      "execution_count": 0,
      "outputs": []
    }
  ]
}